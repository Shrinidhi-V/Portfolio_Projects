{
 "cells": [
  {
   "cell_type": "code",
   "execution_count": 1,
   "id": "c34b8e5a-ec07-4b07-b99d-55f7c0252ca1",
   "metadata": {},
   "outputs": [],
   "source": [
    "import numpy as np\n",
    "import pandas as pd\n",
    "import seaborn as sns\n",
    "import matplotlib.pyplot as plt\n",
    "from sklearn.preprocessing import LabelEncoder\n",
    "from sklearn.model_selection import train_test_split, GridSearchCV\n",
    "from sklearn.linear_model import LogisticRegression\n",
    "from sklearn.ensemble import RandomForestClassifier\n",
    "from sklearn import metrics\n",
    "from sklearn.tree import plot_tree\n",
    "from sklearn.tree import DecisionTreeClassifier\n",
    "from xgboost import XGBClassifier\n",
    "from xgboost import plot_importance\n",
    "import warnings\n",
    "warnings.filterwarnings('ignore')"
   ]
  },
  {
   "cell_type": "code",
   "execution_count": 2,
   "id": "022269a0-7420-4f61-a254-9fb65df3fcf4",
   "metadata": {},
   "outputs": [
    {
     "name": "stdout",
     "output_type": "stream",
     "text": [
      "{'uci_id': 14, 'name': 'Breast Cancer', 'repository_url': 'https://archive.ics.uci.edu/dataset/14/breast+cancer', 'data_url': 'https://archive.ics.uci.edu/static/public/14/data.csv', 'abstract': 'This breast cancer domain was obtained from the University Medical Centre, Institute of Oncology, Ljubljana, Yugoslavia. This is one of three domains provided by the Oncology Institute that has repeatedly appeared in the machine learning literature. (See also lymphography and primary-tumor.)', 'area': 'Health and Medicine', 'tasks': ['Classification'], 'characteristics': ['Multivariate'], 'num_instances': 286, 'num_features': 9, 'feature_types': ['Categorical'], 'demographics': ['Age'], 'target_col': ['Class'], 'index_col': None, 'has_missing_values': 'yes', 'missing_values_symbol': 'NaN', 'year_of_dataset_creation': 1988, 'last_updated': 'Thu Mar 07 2024', 'dataset_doi': '10.24432/C51P4M', 'creators': ['Matjaz Zwitter', 'Milan Soklic'], 'intro_paper': None, 'additional_info': {'summary': 'This data set includes 201 instances of one class and 85 instances of another class.  The instances are described by 9 attributes, some of which are linear and some are nominal.\\n', 'purpose': None, 'funded_by': None, 'instances_represent': None, 'recommended_data_splits': None, 'sensitive_data': None, 'preprocessing_description': None, 'variable_info': '   1. Class: no-recurrence-events, recurrence-events\\r\\n   2. age: 10-19, 20-29, 30-39, 40-49, 50-59, 60-69, 70-79, 80-89, 90-99.\\r\\n   3. menopause: lt40, ge40, premeno.\\r\\n   4. tumor-size: 0-4, 5-9, 10-14, 15-19, 20-24, 25-29, 30-34, 35-39, 40-44, 45-49, 50-54, 55-59.\\r\\n   5. inv-nodes: 0-2, 3-5, 6-8, 9-11, 12-14, 15-17, 18-20, 21-23, 24-26, 27-29, 30-32, 33-35, 36-39.\\r\\n   6. node-caps: yes, no.\\r\\n   7. deg-malig: 1, 2, 3.\\r\\n   8. breast: left, right.\\r\\n   9. breast-quad: left-up, left-low, right-up,\\tright-low, central.\\r\\n  10. irradiat:\\tyes, no.', 'citation': 'Obtained from the University Medical Centre, Institute of Oncology, Ljubljana, Yugoslavia.  Thanks go to M. Zwitter and M. Soklic for providing the data.  Please include this citation if you plan to use this database:\\nMatjaz Zwitter & Milan Soklic (physicians)\\nInstitute of Oncology \\nUniversity Medical Center\\nLjubljana, Yugoslavia'}}\n",
      "          name     role         type demographic  \\\n",
      "0        Class   Target       Binary        None   \n",
      "1          age  Feature  Categorical         Age   \n",
      "2    menopause  Feature  Categorical        None   \n",
      "3   tumor-size  Feature  Categorical        None   \n",
      "4    inv-nodes  Feature  Categorical        None   \n",
      "5    node-caps  Feature       Binary        None   \n",
      "6    deg-malig  Feature      Integer        None   \n",
      "7       breast  Feature       Binary        None   \n",
      "8  breast-quad  Feature  Categorical        None   \n",
      "9     irradiat  Feature       Binary        None   \n",
      "\n",
      "                                         description  units missing_values  \n",
      "0            no-recurrence-events, recurrence-events   None             no  \n",
      "1  10-19, 20-29, 30-39, 40-49, 50-59, 60-69, 70-7...  years             no  \n",
      "2                                lt40, ge40, premeno   None             no  \n",
      "3  0-4, 5-9, 10-14, 15-19, 20-24, 25-29, 30-34, 3...   None             no  \n",
      "4   0-2, 3-5, 6-8, 9-11, 12-14, 15-17, 18-20, 21-...   None             no  \n",
      "5                                            yes, no   None            yes  \n",
      "6                                            1, 2, 3   None             no  \n",
      "7                                        left, right   None             no  \n",
      "8   left-up, left-low, right-up,\\tright-low, central   None            yes  \n",
      "9                                            yes, no   None             no  \n"
     ]
    }
   ],
   "source": [
    "from ucimlrepo import fetch_ucirepo \n",
    "  \n",
    "# fetch dataset \n",
    "breast_cancer = fetch_ucirepo(id=14) \n",
    "  \n",
    "# data (as pandas dataframes) \n",
    "X = breast_cancer.data.features \n",
    "y = breast_cancer.data.targets \n",
    "  \n",
    "# metadata \n",
    "print(breast_cancer.metadata) \n",
    "  \n",
    "# variable information \n",
    "print(breast_cancer.variables) \n"
   ]
  },
  {
   "cell_type": "code",
   "execution_count": 3,
   "id": "53452b30-3243-40d3-8e63-44d71b1fd856",
   "metadata": {},
   "outputs": [
    {
     "data": {
      "text/html": [
       "<div>\n",
       "<style scoped>\n",
       "    .dataframe tbody tr th:only-of-type {\n",
       "        vertical-align: middle;\n",
       "    }\n",
       "\n",
       "    .dataframe tbody tr th {\n",
       "        vertical-align: top;\n",
       "    }\n",
       "\n",
       "    .dataframe thead th {\n",
       "        text-align: right;\n",
       "    }\n",
       "</style>\n",
       "<table border=\"1\" class=\"dataframe\">\n",
       "  <thead>\n",
       "    <tr style=\"text-align: right;\">\n",
       "      <th></th>\n",
       "      <th>age</th>\n",
       "      <th>menopause</th>\n",
       "      <th>tumor-size</th>\n",
       "      <th>inv-nodes</th>\n",
       "      <th>node-caps</th>\n",
       "      <th>deg-malig</th>\n",
       "      <th>breast</th>\n",
       "      <th>breast-quad</th>\n",
       "      <th>irradiat</th>\n",
       "    </tr>\n",
       "  </thead>\n",
       "  <tbody>\n",
       "    <tr>\n",
       "      <th>0</th>\n",
       "      <td>30-39</td>\n",
       "      <td>premeno</td>\n",
       "      <td>30-34</td>\n",
       "      <td>0-2</td>\n",
       "      <td>no</td>\n",
       "      <td>3</td>\n",
       "      <td>left</td>\n",
       "      <td>left_low</td>\n",
       "      <td>no</td>\n",
       "    </tr>\n",
       "    <tr>\n",
       "      <th>1</th>\n",
       "      <td>40-49</td>\n",
       "      <td>premeno</td>\n",
       "      <td>20-24</td>\n",
       "      <td>0-2</td>\n",
       "      <td>no</td>\n",
       "      <td>2</td>\n",
       "      <td>right</td>\n",
       "      <td>right_up</td>\n",
       "      <td>no</td>\n",
       "    </tr>\n",
       "    <tr>\n",
       "      <th>2</th>\n",
       "      <td>40-49</td>\n",
       "      <td>premeno</td>\n",
       "      <td>20-24</td>\n",
       "      <td>0-2</td>\n",
       "      <td>no</td>\n",
       "      <td>2</td>\n",
       "      <td>left</td>\n",
       "      <td>left_low</td>\n",
       "      <td>no</td>\n",
       "    </tr>\n",
       "    <tr>\n",
       "      <th>3</th>\n",
       "      <td>60-69</td>\n",
       "      <td>ge40</td>\n",
       "      <td>15-19</td>\n",
       "      <td>0-2</td>\n",
       "      <td>no</td>\n",
       "      <td>2</td>\n",
       "      <td>right</td>\n",
       "      <td>left_up</td>\n",
       "      <td>no</td>\n",
       "    </tr>\n",
       "    <tr>\n",
       "      <th>4</th>\n",
       "      <td>40-49</td>\n",
       "      <td>premeno</td>\n",
       "      <td>0-4</td>\n",
       "      <td>0-2</td>\n",
       "      <td>no</td>\n",
       "      <td>2</td>\n",
       "      <td>right</td>\n",
       "      <td>right_low</td>\n",
       "      <td>no</td>\n",
       "    </tr>\n",
       "  </tbody>\n",
       "</table>\n",
       "</div>"
      ],
      "text/plain": [
       "     age menopause tumor-size inv-nodes node-caps  deg-malig breast  \\\n",
       "0  30-39   premeno      30-34       0-2        no          3   left   \n",
       "1  40-49   premeno      20-24       0-2        no          2  right   \n",
       "2  40-49   premeno      20-24       0-2        no          2   left   \n",
       "3  60-69      ge40      15-19       0-2        no          2  right   \n",
       "4  40-49   premeno        0-4       0-2        no          2  right   \n",
       "\n",
       "  breast-quad irradiat  \n",
       "0    left_low       no  \n",
       "1    right_up       no  \n",
       "2    left_low       no  \n",
       "3     left_up       no  \n",
       "4   right_low       no  "
      ]
     },
     "execution_count": 3,
     "metadata": {},
     "output_type": "execute_result"
    }
   ],
   "source": [
    "X.head()"
   ]
  },
  {
   "cell_type": "code",
   "execution_count": 4,
   "id": "efa15c5d-ec28-4bda-ac42-7016263c6d46",
   "metadata": {},
   "outputs": [
    {
     "name": "stdout",
     "output_type": "stream",
     "text": [
      "age\n",
      "50-59    96\n",
      "40-49    90\n",
      "60-69    57\n",
      "30-39    36\n",
      "70-79     6\n",
      "20-29     1\n",
      "Name: count, dtype: int64\n",
      "menopause\n",
      "premeno    150\n",
      "ge40       129\n",
      "lt40         7\n",
      "Name: count, dtype: int64\n",
      "tumor-size\n",
      "30-34     60\n",
      "25-29     54\n",
      "20-24     50\n",
      "15-19     30\n",
      "14-Oct    28\n",
      "40-44     22\n",
      "35-39     19\n",
      "0-4        8\n",
      "50-54      8\n",
      "9-May      4\n",
      "45-49      3\n",
      "Name: count, dtype: int64\n",
      "inv-nodes\n",
      "0-2       213\n",
      "5-Mar      36\n",
      "8-Jun      17\n",
      "11-Sep     10\n",
      "15-17       6\n",
      "14-Dec      3\n",
      "24-26       1\n",
      "Name: count, dtype: int64\n",
      "node-caps\n",
      "no     222\n",
      "yes     56\n",
      "Name: count, dtype: int64\n",
      "deg-malig\n",
      "2    130\n",
      "3     85\n",
      "1     71\n",
      "Name: count, dtype: int64\n",
      "breast\n",
      "left     152\n",
      "right    134\n",
      "Name: count, dtype: int64\n",
      "breast-quad\n",
      "left_low     110\n",
      "left_up       97\n",
      "right_up      33\n",
      "right_low     24\n",
      "central       21\n",
      "Name: count, dtype: int64\n",
      "irradiat\n",
      "no     218\n",
      "yes     68\n",
      "Name: count, dtype: int64\n"
     ]
    }
   ],
   "source": [
    "for i in X.columns:\n",
    "    print (X[i].value_counts())"
   ]
  },
  {
   "cell_type": "code",
   "execution_count": 5,
   "id": "d64ab3a8-314f-42cc-8677-0ed6106e4a71",
   "metadata": {},
   "outputs": [],
   "source": [
    "encoder = LabelEncoder()\n",
    "for columns in X.columns:\n",
    "    X[columns] = encoder.fit_transform(X[columns].astype(str))"
   ]
  },
  {
   "cell_type": "code",
   "execution_count": 6,
   "id": "3c19a6bb-c39c-4323-b27e-c5bef2f22e5c",
   "metadata": {},
   "outputs": [
    {
     "name": "stdout",
     "output_type": "stream",
     "text": [
      "age\n",
      "3    96\n",
      "2    90\n",
      "4    57\n",
      "1    36\n",
      "5     6\n",
      "0     1\n",
      "Name: count, dtype: int64\n",
      "menopause\n",
      "2    150\n",
      "0    129\n",
      "1      7\n",
      "Name: count, dtype: int64\n",
      "tumor-size\n",
      "5     60\n",
      "4     54\n",
      "3     50\n",
      "2     30\n",
      "1     28\n",
      "7     22\n",
      "6     19\n",
      "0      8\n",
      "9      8\n",
      "10     4\n",
      "8      3\n",
      "Name: count, dtype: int64\n",
      "inv-nodes\n",
      "0    213\n",
      "5     36\n",
      "6     17\n",
      "1     10\n",
      "3      6\n",
      "2      3\n",
      "4      1\n",
      "Name: count, dtype: int64\n",
      "node-caps\n",
      "1    222\n",
      "2     56\n",
      "0      8\n",
      "Name: count, dtype: int64\n",
      "deg-malig\n",
      "1    130\n",
      "2     85\n",
      "0     71\n",
      "Name: count, dtype: int64\n",
      "breast\n",
      "0    152\n",
      "1    134\n",
      "Name: count, dtype: int64\n",
      "breast-quad\n",
      "1    110\n",
      "2     97\n",
      "5     33\n",
      "4     24\n",
      "0     21\n",
      "3      1\n",
      "Name: count, dtype: int64\n",
      "irradiat\n",
      "0    218\n",
      "1     68\n",
      "Name: count, dtype: int64\n"
     ]
    }
   ],
   "source": [
    "for i in X.columns:\n",
    "    print (X[i].value_counts())"
   ]
  },
  {
   "cell_type": "code",
   "execution_count": 7,
   "id": "b92d60d0-5ced-42f1-b24b-de066720a33f",
   "metadata": {},
   "outputs": [
    {
     "data": {
      "text/plain": [
       "Class\n",
       "no-recurrence-events    201\n",
       "recurrence-events        85\n",
       "Name: count, dtype: int64"
      ]
     },
     "execution_count": 7,
     "metadata": {},
     "output_type": "execute_result"
    }
   ],
   "source": [
    "y[\"Class\"].value_counts()"
   ]
  },
  {
   "cell_type": "code",
   "execution_count": 8,
   "id": "5707a1ea-8656-4835-b6b6-9f101c97ff03",
   "metadata": {},
   "outputs": [],
   "source": [
    "y[\"Class\"] = encoder.fit_transform(y[\"Class\"].astype(str))"
   ]
  },
  {
   "cell_type": "code",
   "execution_count": 9,
   "id": "a62b630f-44db-43a6-bfb0-3100c7315c70",
   "metadata": {},
   "outputs": [
    {
     "data": {
      "text/plain": [
       "Class\n",
       "0    201\n",
       "1     85\n",
       "Name: count, dtype: int64"
      ]
     },
     "execution_count": 9,
     "metadata": {},
     "output_type": "execute_result"
    }
   ],
   "source": [
    "y[\"Class\"].value_counts()"
   ]
  },
  {
   "cell_type": "code",
   "execution_count": 10,
   "id": "9481cedf-bb35-4ee2-828d-0a3164ab46cf",
   "metadata": {},
   "outputs": [],
   "source": [
    "x_train, x_test, y_train, y_test = train_test_split(X,y, test_size = 0.2, stratify = y, random_state = 100)"
   ]
  },
  {
   "cell_type": "code",
   "execution_count": 11,
   "id": "72bf0dcc-4f90-4f27-bbe1-3f98626baea4",
   "metadata": {},
   "outputs": [
    {
     "name": "stdout",
     "output_type": "stream",
     "text": [
      "Accuracy Score =  0.7068965517241379\n",
      "Recall Score =  0.17647058823529413\n",
      "F1 Score =  0.2608695652173913\n",
      "Precision Score =  0.5\n"
     ]
    },
    {
     "data": {
      "text/plain": [
       "<sklearn.metrics._plot.confusion_matrix.ConfusionMatrixDisplay at 0x200ec1ef710>"
      ]
     },
     "execution_count": 11,
     "metadata": {},
     "output_type": "execute_result"
    },
    {
     "data": {
      "image/png": "[encoded data removed]",
      "text/plain": [
       "<Figure size 640x480 with 2 Axes>"
      ]
     },
     "metadata": {},
     "output_type": "display_data"
    }
   ],
   "source": [
    "lr = LogisticRegression(random_state = 100)\n",
    "log_model = lr.fit(x_train, y_train)\n",
    "log_pred = lr.predict(x_test)\n",
    "\n",
    "print('Accuracy Score = ', metrics.accuracy_score(y_test,log_pred))\n",
    "print('Recall Score = ', metrics.recall_score(y_test,log_pred))\n",
    "print('F1 Score = ', metrics.f1_score(y_test,log_pred))\n",
    "print('Precision Score = ', metrics.precision_score(y_test,log_pred))\n",
    "\n",
    "cm = metrics.confusion_matrix(y_test, log_pred)\n",
    "Display = metrics.ConfusionMatrixDisplay(cm, display_labels = log_model.classes_)\n",
    "Display.plot()"
   ]
  },
  {
   "cell_type": "code",
   "execution_count": 12,
   "id": "28db727c-6470-4158-b563-b9d3f797485b",
   "metadata": {},
   "outputs": [
    {
     "name": "stdout",
     "output_type": "stream",
     "text": [
      "Accuracy Score =  0.6206896551724138\n",
      "Recall Score =  0.47058823529411764\n",
      "F1 Score =  0.42105263157894735\n",
      "Precision Score =  0.38095238095238093\n"
     ]
    },
    {
     "data": {
      "text/plain": [
       "<sklearn.metrics._plot.confusion_matrix.ConfusionMatrixDisplay at 0x200f0f00440>"
      ]
     },
     "execution_count": 12,
     "metadata": {},
     "output_type": "execute_result"
    },
    {
     "data": {
      "image/png": "[encoded data removed]",
      "text/plain": [
       "<Figure size 640x480 with 2 Axes>"
      ]
     },
     "metadata": {},
     "output_type": "display_data"
    }
   ],
   "source": [
    "dt = DecisionTreeClassifier(random_state = 42)\n",
    "dt_model = dt.fit(x_train, y_train)\n",
    "dt_pred = dt.predict(x_test)\n",
    "\n",
    "print('Accuracy Score = ', metrics.accuracy_score(y_test,dt_pred))\n",
    "print('Recall Score = ', metrics.recall_score(y_test,dt_pred))\n",
    "print('F1 Score = ', metrics.f1_score(y_test,dt_pred))\n",
    "print('Precision Score = ', metrics.precision_score(y_test,dt_pred))\n",
    "\n",
    "cm = metrics.confusion_matrix(y_test,dt_pred)\n",
    "Display = metrics.ConfusionMatrixDisplay(cm, display_labels = dt_model.classes_)\n",
    "Display.plot()"
   ]
  },
  {
   "cell_type": "code",
   "execution_count": null,
   "id": "bc1efece-0ddf-4f64-8b65-b833fc080049",
   "metadata": {},
   "outputs": [],
   "source": [
    "RFC = RandomForestClassifier(criterion = \"entropy\", random_state = 61)\n",
    "cv_params = {'n_estimators' : [50,100], \n",
    "              'max_depth' : [10,50],        \n",
    "              'min_samples_leaf' : [0.5,1], \n",
    "              'min_samples_split' : [0.001, 0.01],\n",
    "              'max_features' : [\"sqrt\"], \n",
    "              'max_samples' : [.5,.9]}\n",
    "clf = GridSearchCV(RFC, cv_params, cv = 5, refit = \"precision\")\n",
    "clf.fit(x_train,y_train)\n",
    "rfc_pred = clf.best_estimator_.predict(x_test)\n",
    "\n",
    "print('Accuracy Score = ', metrics.accuracy_score(y_test,rfc_pred))\n",
    "print('Recall Score = ', metrics.recall_score(y_test,rfc_pred))\n",
    "print('F1 Score = ', metrics.f1_score(y_test,rfc_pred))\n",
    "print('Precision Score = ', metrics.precision_score(y_test,rfc_pred))\n",
    "\n",
    "cm = metrics.confusion_matrix(y_test, rfc_pred)\n",
    "Display = metrics.ConfusionMatrixDisplay(cm, display_labels = clf.best_estimator_.classes_)\n",
    "Display.plot()"
   ]
  },
  {
   "cell_type": "code",
   "execution_count": null,
   "id": "75fb6dec-675b-4b57-854c-7b6e06f35fd2",
   "metadata": {},
   "outputs": [],
   "source": [
    "XGB = XGBClassifier()\n",
    "xgb_model = XGB.fit(x_train, y_train)\n",
    "xgb_pred = XGB.predict(x_test)\n",
    "\n",
    "print('Accuracy Score = ', metrics.accuracy_score(y_test,xgb_pred))\n",
    "print('Recall Score = ', metrics.recall_score(y_test,xgb_pred))\n",
    "print('F1 Score = ', metrics.f1_score(y_test,xgb_pred))\n",
    "print('Precision Score = ', metrics.precision_score(y_test,xgb_pred))\n",
    "\n",
    "cm = metrics.confusion_matrix(y_test, xgb_pred)\n",
    "Display = metrics.ConfusionMatrixDisplay(cm, display_labels = xgb_model.classes_)\n",
    "Display.plot()"
   ]
  }
 ],
 "metadata": {
  "kernelspec": {
   "display_name": "Python 3 (ipykernel)",
   "language": "python",
   "name": "python3"
  },
  "language_info": {
   "codemirror_mode": {
    "name": "ipython",
    "version": 3
   },
   "file_extension": ".py",
   "mimetype": "text/x-python",
   "name": "python",
   "nbconvert_exporter": "python",
   "pygments_lexer": "ipython3",
   "version": "3.12.4"
  }
 },
 "nbformat": 4,
 "nbformat_minor": 5
}
